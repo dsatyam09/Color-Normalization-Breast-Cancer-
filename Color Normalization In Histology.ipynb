{
 "cells": [
  {
   "cell_type": "markdown",
   "id": "be11f911",
   "metadata": {},
   "source": [
    "# Image Normalization and quantative analysis of different color forms"
   ]
  },
  {
   "cell_type": "markdown",
   "id": "ee61e26e",
   "metadata": {},
   "source": [
    "**Different color forms**\n",
    "1. RGB \n",
    "2. HSI\n",
    "3. L/*A/*B"
   ]
  },
  {
   "cell_type": "code",
   "execution_count": 1,
   "id": "57ceb702",
   "metadata": {},
   "outputs": [],
   "source": [
    "import cv2\n",
    "import numpy as np \n",
    "img = cv2.imread(\"ytma10_010704_benign1_ccd.tif\")\n",
    "cv2.imshow('H and E stain',img)\n",
    "cv2.waitKey(0)\n",
    "cv2.destroyAllWindows()"
   ]
  },
  {
   "cell_type": "code",
   "execution_count": 2,
   "id": "44237dfe",
   "metadata": {},
   "outputs": [],
   "source": [
    "new_img = cv2.cvtColor(img, cv2.COLOR_BGR2RGB)"
   ]
  },
  {
   "cell_type": "code",
   "execution_count": 8,
   "id": "e9082816",
   "metadata": {},
   "outputs": [],
   "source": [
    "b,g,r= cv2.split(img)"
   ]
  },
  {
   "cell_type": "markdown",
   "id": "bdd34185",
   "metadata": {},
   "source": [
    "# Method 1"
   ]
  },
  {
   "cell_type": "markdown",
   "id": "5e0915f2",
   "metadata": {},
   "source": [
    "**Trying the First Method for conversion Direst throught open cv (Failed ie it gave the same result that of bgr to rgb conversion**"
   ]
  },
  {
   "cell_type": "code",
   "execution_count": 4,
   "id": "b8bd44e0",
   "metadata": {},
   "outputs": [],
   "source": [
    "rows, cols = (768, 896)\n",
    "red =np.zeros( (768,896) , dtype=np.float64)\n",
    "blue = np.zeros( (768,896) , dtype=np.float64)\n",
    "green = np.zeros( (768,896) , dtype=np.float64)\n",
    "red= r\n",
    "green = g\n",
    "blue = b"
   ]
  },
  {
   "cell_type": "code",
   "execution_count": 5,
   "id": "d250a136",
   "metadata": {},
   "outputs": [],
   "source": [
    "red= red/255\n",
    "green = green/255\n",
    "blue = blue/255\n",
    "newimg=cv2.merge([red,green,blue])"
   ]
  },
  {
   "cell_type": "code",
   "execution_count": 6,
   "id": "8557b171",
   "metadata": {},
   "outputs": [],
   "source": [
    "rgbnorm = cv2.normalize(newimg, None, alpha=1,beta=0.15, norm_type=cv2.NORM_MINMAX)\n",
    "cv2.imshow('rgb Normalized',rgbnorm)\n",
    "cv2.waitKey(0)\n",
    "cv2.destroyAllWindows()"
   ]
  },
  {
   "cell_type": "code",
   "execution_count": 7,
   "id": "65e4e3ab",
   "metadata": {},
   "outputs": [
    {
     "data": {
      "text/plain": [
       "(768, 896, 3)"
      ]
     },
     "execution_count": 7,
     "metadata": {},
     "output_type": "execute_result"
    }
   ],
   "source": [
    "# now lets just try and normalize the image as per the instruction of a online weksite .\n",
    "img.shape"
   ]
  },
  {
   "cell_type": "markdown",
   "id": "3a8e0a05",
   "metadata": {},
   "source": [
    "# Method 2"
   ]
  },
  {
   "cell_type": "markdown",
   "id": "3934f7c0",
   "metadata": {},
   "source": [
    "**Macenko's Method in \"A Method for Normalizing Histology Slides for Quantitative Analysis\"**"
   ]
  },
  {
   "cell_type": "code",
   "execution_count": null,
   "id": "c345eb26",
   "metadata": {},
   "outputs": [],
   "source": []
  },
  {
   "cell_type": "code",
   "execution_count": null,
   "id": "59fe5224",
   "metadata": {},
   "outputs": [],
   "source": []
  }
 ],
 "metadata": {
  "kernelspec": {
   "display_name": "Python 3 (ipykernel)",
   "language": "python",
   "name": "python3"
  },
  "language_info": {
   "codemirror_mode": {
    "name": "ipython",
    "version": 3
   },
   "file_extension": ".py",
   "mimetype": "text/x-python",
   "name": "python",
   "nbconvert_exporter": "python",
   "pygments_lexer": "ipython3",
   "version": "3.10.4"
  }
 },
 "nbformat": 4,
 "nbformat_minor": 5
}
